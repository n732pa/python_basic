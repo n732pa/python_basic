{
  "nbformat": 4,
  "nbformat_minor": 0,
  "metadata": {
    "colab": {
      "provenance": [],
      "authorship_tag": "ABX9TyMiZi0suLaddnP6y4tdYLzw",
      "include_colab_link": true
    },
    "kernelspec": {
      "name": "python3",
      "display_name": "Python 3"
    },
    "language_info": {
      "name": "python"
    }
  },
  "cells": [
    {
      "cell_type": "markdown",
      "metadata": {
        "id": "view-in-github",
        "colab_type": "text"
      },
      "source": [
        "<a href=\"https://colab.research.google.com/github/n732pa/python_basic/blob/main/8%EC%9D%BC%EC%B0%A8_set_%EC%82%AC%EC%9A%A9%EC%9E%90_%EC%A0%95%EC%9D%98_%ED%95%A8%EC%88%98.ipynb\" target=\"_parent\"><img src=\"https://colab.research.google.com/assets/colab-badge.svg\" alt=\"Open In Colab\"/></a>"
      ]
    },
    {
      "cell_type": "markdown",
      "source": [
        "## 컬렉션 데이터 - set\n",
        " * 세트명 = {값1,값2...}"
      ],
      "metadata": {
        "id": "nWH6n3qhGY7h"
      }
    },
    {
      "cell_type": "code",
      "source": [
        "a={10,20,30}\n",
        "b={20,40}\n",
        "\n",
        "print(a&b) # 교집합\n",
        "print(a|b) # 합집합\n",
        "print(a-b) # 차집합"
      ],
      "metadata": {
        "colab": {
          "base_uri": "https://localhost:8080/"
        },
        "id": "R_H2zr-AGj0a",
        "outputId": "d2bd5c72-77b5-417e-803b-dd89c088b89a"
      },
      "execution_count": null,
      "outputs": [
        {
          "output_type": "stream",
          "name": "stdout",
          "text": [
            "{20}\n",
            "{20, 40, 10, 30}\n",
            "{10, 30}\n"
          ]
        }
      ]
    },
    {
      "cell_type": "markdown",
      "source": [
        "## 사용자 정의 함수\n",
        "\n",
        "```\n",
        "def (함수명):\n",
        " 명령문\n",
        " 명령문\n",
        "\n",
        "함수명()\n",
        "```\n",
        "\n"
      ],
      "metadata": {
        "id": "ZlGDV0B_J8Im"
      }
    },
    {
      "cell_type": "code",
      "source": [
        "# 함수 정의\n",
        "def infoper():\n",
        "  print('서울시')\n",
        "  print('이름')\n",
        "\n",
        "# 함수 호출\n",
        "for i in range(10):\n",
        "  infoper()"
      ],
      "metadata": {
        "colab": {
          "base_uri": "https://localhost:8080/"
        },
        "id": "QOIHcM-bG2CG",
        "outputId": "b91122b2-4d7e-41aa-fba8-a6f7b1b793b0"
      },
      "execution_count": null,
      "outputs": [
        {
          "output_type": "stream",
          "name": "stdout",
          "text": [
            "서울시\n",
            "이름\n",
            "서울시\n",
            "이름\n",
            "서울시\n",
            "이름\n",
            "서울시\n",
            "이름\n",
            "서울시\n",
            "이름\n",
            "서울시\n",
            "이름\n",
            "서울시\n",
            "이름\n",
            "서울시\n",
            "이름\n",
            "서울시\n",
            "이름\n",
            "서울시\n",
            "이름\n"
          ]
        }
      ]
    },
    {
      "cell_type": "code",
      "source": [
        "# 함수 인수 이용\n",
        "# 함수 정의\n",
        "def infoper(addr,name):\n",
        "  print(addr)\n",
        "  print(name)\n",
        "\n",
        "# 함수 호출\n",
        "addr = input('주소입력>> ')\n",
        "name = input('이름>> ')\n",
        "infoper(addr,name)"
      ],
      "metadata": {
        "colab": {
          "base_uri": "https://localhost:8080/"
        },
        "id": "fJGqx9QLKxu4",
        "outputId": "696a9127-94be-4ede-c944-a4464b3543e2"
      },
      "execution_count": null,
      "outputs": [
        {
          "output_type": "stream",
          "name": "stdout",
          "text": [
            "주소입력>> 333\n",
            "이름>> 111\n",
            "333\n",
            "111\n"
          ]
        }
      ]
    },
    {
      "cell_type": "code",
      "source": [
        "# 더하기 뻬기 함수 작성\n",
        "def calc(a,b,c):\n",
        "  r1 = a+b+c\n",
        "  r2 = r1/3\n",
        "  # print('더하기' ,r1)\n",
        "  # print('빼기', r2)\n",
        "  return r1,r2\n",
        "\n",
        "x,y = calc(100,200,300)\n",
        "print(x,y)"
      ],
      "metadata": {
        "colab": {
          "base_uri": "https://localhost:8080/"
        },
        "id": "7CFgNdq5L5Ub",
        "outputId": "196d57ec-fe24-4beb-bb12-54628d28a947"
      },
      "execution_count": null,
      "outputs": [
        {
          "output_type": "stream",
          "name": "stdout",
          "text": [
            "600 200.0\n"
          ]
        }
      ]
    },
    {
      "cell_type": "code",
      "source": [
        "# 사용자로부터 입력받아 구구단을 출력하는 프로그램을 작성\n",
        "\n",
        "# 함수 정의\n",
        "\n",
        "def gugudan(dan):\n",
        "  if dan >=2 and dan <=9:\n",
        "    for i in range(1,10):\n",
        "      print(f'{dan} * {i} = {dan*i}')\n",
        "  else:\n",
        "    print('입력오류!')\n",
        "\n",
        "dan=int(input('단입력>> '))\n",
        "\n",
        "# 함수 호출\n",
        "\n",
        "gugudan(dan)"
      ],
      "metadata": {
        "colab": {
          "base_uri": "https://localhost:8080/"
        },
        "id": "KuOjB8SpONO6",
        "outputId": "90d547c0-059b-4133-f069-17220d41e2c1"
      },
      "execution_count": null,
      "outputs": [
        {
          "output_type": "stream",
          "name": "stdout",
          "text": [
            "단입력>> 6\n",
            "6 * 1 = 6\n",
            "6 * 2 = 12\n",
            "6 * 3 = 18\n",
            "6 * 4 = 24\n",
            "6 * 5 = 30\n",
            "6 * 6 = 36\n",
            "6 * 7 = 42\n",
            "6 * 8 = 48\n",
            "6 * 9 = 54\n"
          ]
        }
      ]
    },
    {
      "cell_type": "code",
      "source": [],
      "metadata": {
        "id": "wosTH_wyRB74"
      },
      "execution_count": null,
      "outputs": []
    },
    {
      "cell_type": "code",
      "source": [
        "# 사용자로부터 3개의 숫자를 입력받아 가장 큰 수를 구하는 프로그램을 작성\n",
        "\n",
        "# 함수 정의\n",
        "def findmax(a,b,c):\n",
        "  if a>b:\n",
        "    big=a\n",
        "  else:\n",
        "    big=b\n",
        "  if big<c:\n",
        "    big=c\n",
        "  return big\n",
        "\n",
        "# 함수호출\n",
        "in_a=int(input('첫 번째 숫자 입력>> '))\n",
        "in_b=int(input('두 번째 숫자 입력>> '))\n",
        "in_c=int(input('세 번째 숫자 입력>> '))\n",
        "\n",
        "rbig = findmax(in_a,in_b,in_c)  # 함수 정의랑 호출에 다른 이름 사용 권장\n",
        "print('가장 큰 수는 ', rbig)"
      ],
      "metadata": {
        "colab": {
          "base_uri": "https://localhost:8080/"
        },
        "id": "1lGlRT7QSAIR",
        "outputId": "ae6f3d05-bd1b-4976-a35a-e5bab7e65787"
      },
      "execution_count": null,
      "outputs": [
        {
          "output_type": "stream",
          "name": "stdout",
          "text": [
            "첫 번째 숫자 입력>> 1\n",
            "두 번째 숫자 입력>> 2\n",
            "세 번째 숫자 입력>> 3\n",
            "가장 큰 수는  3\n"
          ]
        }
      ]
    },
    {
      "cell_type": "code",
      "source": [
        "# 사용자로부터 반지름을 입력받아 원의 둘레와 원의 넓이를 출력하는 프로그램을 작성\n",
        "# return문 사용\n",
        "\n",
        "def circleRound(r):\n",
        "  pi = 3.14\n",
        "  cr = r*pi*2\n",
        "  return cr\n",
        "\n",
        "def circleArea(r):\n",
        "  pi = 3.14\n",
        "  ca = r*r*pi\n",
        "  return ca\n",
        "\n",
        "n=float(input('원의 지름을 입력>> '))\n",
        "result1=circleRound(n)\n",
        "result2=circleArea(n)\n",
        "\n",
        "print('원의 둘레: %.2f' % result1)\n",
        "print('원의 넓이: %.2f' % result2)"
      ],
      "metadata": {
        "colab": {
          "base_uri": "https://localhost:8080/"
        },
        "id": "NDJOX-bHU4q3",
        "outputId": "a85c98b8-5816-40ed-ff20-009db8193ac6"
      },
      "execution_count": null,
      "outputs": [
        {
          "output_type": "stream",
          "name": "stdout",
          "text": [
            "원의 지름을 입력>> 10\n",
            "원의 둘레: 62.80\n",
            "원의 넓이: 314.00\n"
          ]
        }
      ]
    },
    {
      "cell_type": "markdown",
      "source": [
        "## 모듈\n",
        " * 모듈은 함수나 변수 또는 클래스들을 모아 놓은 파일\n",
        " * 특정 기능(함수)들을 포함하고 있는 파일(xxx.py)로 다른 프로그렘에 이식해서 사용하는 것\n",
        " * 표준 모듈: 파이썬에서 제공하는 모듈\n",
        "  * os\n",
        "  * sys\n",
        "  * math\n",
        "  * random\n",
        "  * datetime 등"
      ],
      "metadata": {
        "id": "iNf2KKC1ZkR2"
      }
    },
    {
      "cell_type": "code",
      "source": [
        "# 1. import 모듈\n",
        "import math\n",
        "math.sqrt(4.0)\n",
        "\n",
        "# 2. import 모듈 as 별칭\n",
        "import math as m\n",
        "m.sqrt(4.0)\n",
        "\n",
        "# 3. from 모듈 import 함수1, 함수2\n",
        "\n",
        "# 4. from 모듈 import *"
      ],
      "metadata": {
        "colab": {
          "base_uri": "https://localhost:8080/"
        },
        "id": "FhvMXEp7XH1W",
        "outputId": "d815af0f-4c83-4ecf-f2ac-aaaf0f5f4efc"
      },
      "execution_count": null,
      "outputs": [
        {
          "output_type": "execute_result",
          "data": {
            "text/plain": [
              "2.0"
            ]
          },
          "metadata": {},
          "execution_count": 38
        }
      ]
    },
    {
      "cell_type": "code",
      "source": [
        "# '영어단어 5문제 출제'하는 프로그램 작성\n",
        "# 딕셔너리 사용\n",
        "\n",
        "import random\n",
        "\n",
        "word_data={'cat':'고양이','apple':'사과','friend':'친구','flower':'꽃'}\n",
        "correct = 0\n",
        "totQ=0\n",
        "\n",
        "while True:\n",
        "  word=random.choice(list(word_data.keys()))\n",
        "  print(f'다음 단어의 뜻은 무엇일까요? {word}')\n",
        "  totQ += 1\n",
        "  guess=input('끗을 입력하세요>> ')\n",
        "  if guess == word_data[word]:\n",
        "    print('정답')\n",
        "    correct += 1\n",
        "  else:\n",
        "    print('오답')\n",
        "    print(word_data[word])\n",
        "\n",
        "  quit=input('계속하시겠습니까?(종료:N)')\n",
        "  if quit=='N':\n",
        "    break\n",
        "\n",
        "print(f'문제수 : {totQ}, 정답수: {correct}')\n"
      ],
      "metadata": {
        "colab": {
          "base_uri": "https://localhost:8080/"
        },
        "id": "vOeGSL7GcMaR",
        "outputId": "4448f177-45d2-43b8-f5bd-1db5576f8011"
      },
      "execution_count": null,
      "outputs": [
        {
          "output_type": "stream",
          "name": "stdout",
          "text": [
            "다음 단어의 뜻은 무엇일까요? friend\n",
            "끗을 입력하세요>> 친구\n",
            "정답\n",
            "계속하시겠습니까?(종료:N)\n",
            "다음 단어의 뜻은 무엇일까요? cat\n",
            "끗을 입력하세요>> 고양이\n",
            "정답\n",
            "계속하시겠습니까?(종료:N)ㄴ\n",
            "다음 단어의 뜻은 무엇일까요? cat\n",
            "끗을 입력하세요>> ㄴ\n",
            "오답\n",
            "고양이\n",
            "계속하시겠습니까?(종료:N)N\n",
            "문제수 : 3, 정답수: 2\n"
          ]
        }
      ]
    },
    {
      "cell_type": "code",
      "source": [
        "# '영어단어 5문제 출제'하는 프로그램 작성\n",
        "# 딕셔너리 사용\n",
        "# 함수 사용\n",
        "\n",
        "def eng_question():\n",
        "  import random\n",
        "  word_data={'cat':'고양이','apple':'사과','friend':'친구','flower':'꽃'}\n",
        "  correct = 0\n",
        "  totQ=0\n",
        "\n",
        "  while True:\n",
        "    word=random.choice(list(word_data.keys()))\n",
        "    print(f'다음 단어의 뜻은 무엇일까요? {word}')\n",
        "    totQ += 1\n",
        "    guess=input('끗을 입력하세요>> ')\n",
        "    if guess == word_data[word]:\n",
        "      print('정답')\n",
        "      correct += 1\n",
        "    else:\n",
        "      print('오답')\n",
        "      print(word_data[word])\n",
        "\n",
        "    quit=input('계속하시겠습니까?(종료:N)')\n",
        "    if quit=='N':\n",
        "      break\n",
        "  print(f'문제수 : {totQ}, 정답수: {correct}')\n",
        "\n",
        "eng_question()"
      ],
      "metadata": {
        "colab": {
          "base_uri": "https://localhost:8080/"
        },
        "id": "W4LBLb60eTnG",
        "outputId": "93177c88-9f11-4527-9be2-6b423a9357a8"
      },
      "execution_count": null,
      "outputs": [
        {
          "output_type": "stream",
          "name": "stdout",
          "text": [
            "다음 단어의 뜻은 무엇일까요? cat\n",
            "끗을 입력하세요>> 고양이\n",
            "정답\n",
            "계속하시겠습니까?(종료:N)y\n",
            "다음 단어의 뜻은 무엇일까요? apple\n",
            "끗을 입력하세요>> 고\n",
            "오답\n",
            "사과\n",
            "계속하시겠습니까?(종료:N)N\n",
            "문제수 : 2, 정답수: 1\n"
          ]
        }
      ]
    },
    {
      "cell_type": "code",
      "source": [
        "# '영어단어 5문제 출제'하는 프로그램 작성\n",
        "# 딕셔너리 사용\n",
        "# 함수 사용\n",
        "\n",
        "word_data={'cat':'고양이','apple':'사과','friend':'친구','flower':'꽃'}\n",
        "\n",
        "def data_add():\n",
        "  eng_data=input('영어 단어 입력>> ')\n",
        "  kor_data=input('영어 뜻 입력>> ')\n",
        "  word_data[eng_data]=kor_data\n",
        "  print(word_data)\n",
        "\n",
        "def eng_question():\n",
        "  import random\n",
        "  correct = 0\n",
        "  totQ=0\n",
        "\n",
        "  while True:\n",
        "    word=random.choice(list(word_data.keys()))\n",
        "    print(f'다음 단어의 뜻은 무엇일까요? {word}')\n",
        "    totQ += 1\n",
        "    guess=input('끗을 입력하세요>> ')\n",
        "    if guess == word_data[word]:\n",
        "      print('정답')\n",
        "      correct += 1\n",
        "    else:\n",
        "      print('오답')\n",
        "      print(word_data[word])\n",
        "\n",
        "    quit=input('계속하시겠습니까?(종료:N)')\n",
        "    if quit=='N':\n",
        "      break\n",
        "  print(f'문제수 : {totQ}, 정답수: {correct}')\n",
        "\n",
        "menu = int(input('메뉴선택 (1.데이터 추가, 2.영어단어퀴즈)>> '))\n",
        "if menu == 1:\n",
        "  data_add()\n",
        "elif menu == 2:\n",
        "  eng_question()\n",
        "else:\n",
        "  print('-없는 메뉴입니다-')"
      ],
      "metadata": {
        "colab": {
          "base_uri": "https://localhost:8080/"
        },
        "id": "aksMZBChiWHu",
        "outputId": "0adc35c5-41bb-4177-b802-cb705c4eaacf"
      },
      "execution_count": null,
      "outputs": [
        {
          "output_type": "stream",
          "name": "stdout",
          "text": [
            "메뉴선택 (1.데이터 추가, 2.영어단어퀴즈)>> 1\n",
            "영어 단어 입력>> tree\n",
            "영어 뜻 입력>> 나무\n",
            "{'cat': '고양이', 'apple': '사과', 'friend': '친구', 'flower': '꽃', 'tree': '나무'}\n"
          ]
        }
      ]
    },
    {
      "cell_type": "code",
      "source": [
        "# 구구단 게임을 컴퓨터와 하는 프로그램을 작성\n",
        "\n",
        "# 함수 정의\n",
        "def gugudan(count):\n",
        "  import random\n",
        "  import time\n",
        "  correct = 0\n",
        "  for i in range(count):\n",
        "\n",
        "    a = random.randint(2,9)\n",
        "    b = random.randint(1,9)\n",
        "\n",
        "    print(f'{a} X {b} = ?')\n",
        "    sTime = time.time()\n",
        "    userin = int(input('>> '))\n",
        "    eTime = time.time()\n",
        "    print(f'{eTime-sTime:.1f} 초만에 답을 했어요')\n",
        "\n",
        "    if userin == a*b:\n",
        "      print('정답')\n",
        "      correct += 1\n",
        "    else:\n",
        "      print('재도전!')\n",
        "\n",
        "  return correct\n",
        "\n",
        "\n",
        "# 함수 호출\n",
        "count = int(input('몇번할까요? > '))\n",
        "r_correct = gugudan(count)\n",
        "print(f'{count}번 중 {r_correct}번 맞았어요')"
      ],
      "metadata": {
        "id": "0y6Au5xwmXK2"
      },
      "execution_count": null,
      "outputs": []
    },
    {
      "cell_type": "code",
      "source": [
        "import time\n",
        "\n",
        "print(time.time())"
      ],
      "metadata": {
        "colab": {
          "base_uri": "https://localhost:8080/"
        },
        "id": "dzYTqePwm3eT",
        "outputId": "dcdd1baf-cc2b-4ac6-cca4-d7ec20510372"
      },
      "execution_count": null,
      "outputs": [
        {
          "output_type": "stream",
          "name": "stdout",
          "text": [
            "1736738459.803425\n"
          ]
        }
      ]
    }
  ]
}